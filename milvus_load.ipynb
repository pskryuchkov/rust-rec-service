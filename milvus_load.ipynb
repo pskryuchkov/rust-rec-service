{
 "cells": [
  {
   "cell_type": "code",
   "execution_count": 1,
   "id": "b37f7a2e",
   "metadata": {},
   "outputs": [
    {
     "name": "stderr",
     "output_type": "stream",
     "text": [
      "/Users/pasha/Library/Python/3.9/lib/python/site-packages/urllib3/__init__.py:34: NotOpenSSLWarning: urllib3 v2.0 only supports OpenSSL 1.1.1+, currently the 'ssl' module is compiled with 'LibreSSL 2.8.3'. See: https://github.com/urllib3/urllib3/issues/3020\n",
      "  warnings.warn(\n"
     ]
    }
   ],
   "source": [
    "import numpy as np\n",
    "from tqdm import tqdm\n",
    "\n",
    "from pymilvus import (\n",
    "    connections,\n",
    "    utility,\n",
    "    FieldSchema,\n",
    "    CollectionSchema,\n",
    "    DataType,\n",
    "    Collection,\n",
    ")"
   ]
  },
  {
   "cell_type": "code",
   "execution_count": 2,
   "id": "2174e887",
   "metadata": {},
   "outputs": [],
   "source": [
    "vecs = np.load(\"data/als_vecs.npy\")\n",
    "n_vecs, dim = vecs.shape"
   ]
  },
  {
   "cell_type": "code",
   "execution_count": 3,
   "id": "34c24218",
   "metadata": {},
   "outputs": [],
   "source": [
    "connections.connect(\"default\", host=\"localhost\", port=\"19530\")"
   ]
  },
  {
   "cell_type": "code",
   "execution_count": 4,
   "id": "59abf0dc",
   "metadata": {},
   "outputs": [],
   "source": [
    "if utility.has_collection(\"tracks\"):\n",
    "    utility.drop_collection(\"tracks\")"
   ]
  },
  {
   "cell_type": "code",
   "execution_count": 5,
   "id": "736fb0de",
   "metadata": {},
   "outputs": [],
   "source": [
    "fields = [\n",
    "    FieldSchema(name=\"id\", dtype=DataType.INT64, is_primary=True, auto_id=False),\n",
    "    FieldSchema(name=\"embeddings\", dtype=DataType.FLOAT_VECTOR, dim=dim)\n",
    "]\n",
    "schema = CollectionSchema(fields, \"\")\n",
    "tracks = Collection(\"tracks\", schema)"
   ]
  },
  {
   "cell_type": "code",
   "execution_count": 6,
   "id": "27374dba",
   "metadata": {},
   "outputs": [
    {
     "data": {
      "text/plain": [
       "<Collection>:\n",
       "-------------\n",
       "<name>: tracks\n",
       "<description>: \n",
       "<schema>: {'auto_id': False, 'description': '', 'fields': [{'name': 'id', 'description': '', 'type': <DataType.INT64: 5>, 'is_primary': True, 'auto_id': False}, {'name': 'embeddings', 'description': '', 'type': <DataType.FLOAT_VECTOR: 101>, 'params': {'dim': 128}}]}"
      ]
     },
     "execution_count": 6,
     "metadata": {},
     "output_type": "execute_result"
    }
   ],
   "source": [
    "tracks"
   ]
  },
  {
   "cell_type": "code",
   "execution_count": 7,
   "id": "4297a4c6",
   "metadata": {},
   "outputs": [
    {
     "name": "stderr",
     "output_type": "stream",
     "text": [
      "100%|███████████████████████████████████████████████████████████████████████████████████████████████████████████████████████████████████| 170/170 [00:03<00:00, 47.50it/s]\n"
     ]
    }
   ],
   "source": [
    "batch_size = 1000\n",
    "\n",
    "for i in tqdm(range(0, n_vecs, batch_size)):\n",
    "    entities = [list(range(i, min(i + batch_size, n_vecs))), vecs[i:min(i + batch_size, n_vecs)].tolist()]\n",
    "    insert_result = tracks.insert(entities)\n",
    "    \n",
    "tracks.flush()  "
   ]
  },
  {
   "cell_type": "code",
   "execution_count": 8,
   "id": "7e95562b",
   "metadata": {},
   "outputs": [
    {
     "data": {
      "text/plain": [
       "True"
      ]
     },
     "execution_count": 8,
     "metadata": {},
     "output_type": "execute_result"
    }
   ],
   "source": [
    "utility.has_collection(\"tracks\")"
   ]
  },
  {
   "cell_type": "code",
   "execution_count": 9,
   "id": "ed42f13b",
   "metadata": {},
   "outputs": [
    {
     "data": {
      "text/plain": [
       "(169542, 169542)"
      ]
     },
     "execution_count": 9,
     "metadata": {},
     "output_type": "execute_result"
    }
   ],
   "source": [
    "n_vecs, tracks.num_entities"
   ]
  },
  {
   "cell_type": "code",
   "execution_count": 10,
   "id": "f53047a2",
   "metadata": {},
   "outputs": [],
   "source": [
    "index = {\n",
    "    \"index_type\": \"IVF_FLAT\",\n",
    "    \"metric_type\": \"L2\",\n",
    "    \"params\": {\"nlist\": 128},\n",
    "}\n",
    "tracks.create_index(\"embeddings\", index)\n",
    "tracks.load()"
   ]
  },
  {
   "cell_type": "code",
   "execution_count": 11,
   "id": "2be3eb15",
   "metadata": {},
   "outputs": [],
   "source": [
    "def similar(id):\n",
    "    vectors_to_search = [vecs[id].tolist()]\n",
    "    search_params = {\n",
    "        \"metric_type\": \"L2\",\n",
    "        \"params\": {\"nprobe\": 10},\n",
    "    }\n",
    "    resp = tracks.search(vectors_to_search, \"embeddings\", search_params, limit=10, output_fields=[\"id\", \"embeddings\"])\n",
    "    return [r.entity.get('id') for r in resp[0]]"
   ]
  },
  {
   "cell_type": "code",
   "execution_count": 12,
   "id": "ac7e89a5",
   "metadata": {},
   "outputs": [
    {
     "data": {
      "text/plain": [
       "[0, 34574, 6761, 14766, 74274, 46600, 19795, 3331, 30335, 36532]"
      ]
     },
     "execution_count": 12,
     "metadata": {},
     "output_type": "execute_result"
    }
   ],
   "source": [
    "similar(0)"
   ]
  },
  {
   "cell_type": "code",
   "execution_count": 13,
   "id": "104077f2",
   "metadata": {},
   "outputs": [
    {
     "data": {
      "text/plain": [
       "[1, 21776, 18594, 9976, 17919, 8285, 12400, 6736, 18560, 13668]"
      ]
     },
     "execution_count": 13,
     "metadata": {},
     "output_type": "execute_result"
    }
   ],
   "source": [
    "similar(1)"
   ]
  },
  {
   "cell_type": "code",
   "execution_count": 14,
   "id": "605c54bb",
   "metadata": {},
   "outputs": [
    {
     "data": {
      "text/plain": [
       "[2, 1189, 1488, 20638, 10329, 51061, 16045, 18576, 1116, 52169]"
      ]
     },
     "execution_count": 14,
     "metadata": {},
     "output_type": "execute_result"
    }
   ],
   "source": [
    "similar(2)"
   ]
  },
  {
   "cell_type": "code",
   "execution_count": 18,
   "id": "68161f3b",
   "metadata": {},
   "outputs": [
    {
     "data": {
      "text/plain": [
       "[-0.017452085,\n",
       " 0.021967735,\n",
       " 0.022460308,\n",
       " -0.021715969,\n",
       " 0.027727226,\n",
       " 0.0207262,\n",
       " 0.016178701,\n",
       " 0.010607587,\n",
       " 0.03436831,\n",
       " 0.015008648,\n",
       " -0.01537897,\n",
       " 0.030006101,\n",
       " 0.03922965,\n",
       " 0.0012650349,\n",
       " 0.0010564083,\n",
       " -0.032457393,\n",
       " 0.036207158,\n",
       " 0.0019614426,\n",
       " -0.010713417,\n",
       " -0.03149738,\n",
       " -0.039326146,\n",
       " 0.0016342064,\n",
       " -0.022431495,\n",
       " 0.012658413,\n",
       " 0.044591963,\n",
       " 0.0015363134,\n",
       " 0.028252825,\n",
       " -0.0070731505,\n",
       " -0.008412766,\n",
       " -0.008343729,\n",
       " -0.0021883226,\n",
       " 0.07450654,\n",
       " 0.029140215,\n",
       " 0.0082035065,\n",
       " 0.055540353,\n",
       " -0.03285737,\n",
       " 0.027390094,\n",
       " -0.020342346,\n",
       " 0.02483456,\n",
       " 0.014269789,\n",
       " 0.02332753,\n",
       " 0.02702579,\n",
       " 0.03391621,\n",
       " -0.0028902378,\n",
       " -0.0071795243,\n",
       " 0.027912192,\n",
       " 0.003600293,\n",
       " 0.0495467,\n",
       " -0.033584736,\n",
       " 0.02751022,\n",
       " -0.011300132,\n",
       " -0.0022968533,\n",
       " -0.0010127255,\n",
       " 0.001966205,\n",
       " -0.010524735,\n",
       " 0.019233627,\n",
       " 0.027640305,\n",
       " -0.00066645717,\n",
       " 0.031088293,\n",
       " -0.02983251,\n",
       " 0.037521902,\n",
       " 0.07228329,\n",
       " 0.0012775419,\n",
       " 0.021634575,\n",
       " 0.016209813,\n",
       " 0.040289737,\n",
       " 0.018820524,\n",
       " 0.008956291,\n",
       " -0.0040700827,\n",
       " -0.019616421,\n",
       " 0.021223782,\n",
       " 0.029382514,\n",
       " 0.012773959,\n",
       " 0.0042297645,\n",
       " 0.011662571,\n",
       " 0.016721541,\n",
       " -0.014452028,\n",
       " 0.025052289,\n",
       " 0.004933921,\n",
       " 0.024797246,\n",
       " -0.03399563,\n",
       " 0.023360267,\n",
       " -0.012174977,\n",
       " 0.027090833,\n",
       " -0.005312467,\n",
       " 0.028038522,\n",
       " -0.004705188,\n",
       " -0.019217234,\n",
       " 0.0018914276,\n",
       " 0.035302524,\n",
       " -0.021287326,\n",
       " 0.013560814,\n",
       " 0.014483056,\n",
       " -0.023609148,\n",
       " -0.015632069,\n",
       " 0.024404768,\n",
       " 0.03388145,\n",
       " 0.0005513377,\n",
       " 0.0019430914,\n",
       " 0.017736882,\n",
       " 0.029626565,\n",
       " 0.027351877,\n",
       " 0.01567433,\n",
       " 0.003675826,\n",
       " -0.010177096,\n",
       " 0.019910028,\n",
       " -0.010172526,\n",
       " 0.009126336,\n",
       " 0.04024206,\n",
       " 0.018317303,\n",
       " -0.016740335,\n",
       " 0.012434018,\n",
       " -0.025964802,\n",
       " -0.005210055,\n",
       " 0.011161066,\n",
       " -0.0016860993,\n",
       " -0.0021118214,\n",
       " -0.009581604,\n",
       " -0.007854977,\n",
       " -0.005792137,\n",
       " 0.019095145,\n",
       " -0.011683736,\n",
       " 0.021144882,\n",
       " 0.01944658,\n",
       " -0.01180773,\n",
       " -0.0147392675,\n",
       " -0.013740472,\n",
       " -0.004119639]"
      ]
     },
     "execution_count": 18,
     "metadata": {},
     "output_type": "execute_result"
    }
   ],
   "source": [
    "res = tracks.query(\n",
    "  expr = \"id in [0]\",\n",
    "  offset = 0,\n",
    "  limit = 1, \n",
    "  output_fields = [\"id\", \"embeddings\"],\n",
    ")\n",
    "res[0]['embeddings']"
   ]
  },
  {
   "cell_type": "code",
   "execution_count": null,
   "id": "94487177",
   "metadata": {},
   "outputs": [],
   "source": []
  }
 ],
 "metadata": {
  "kernelspec": {
   "display_name": "Python 3 (ipykernel)",
   "language": "python",
   "name": "python3"
  },
  "language_info": {
   "codemirror_mode": {
    "name": "ipython",
    "version": 3
   },
   "file_extension": ".py",
   "mimetype": "text/x-python",
   "name": "python",
   "nbconvert_exporter": "python",
   "pygments_lexer": "ipython3",
   "version": "3.9.6"
  }
 },
 "nbformat": 4,
 "nbformat_minor": 5
}
