{
 "cells": [
  {
   "cell_type": "code",
   "execution_count": 3,
   "id": "1bc2b31e",
   "metadata": {},
   "outputs": [],
   "source": [
    "from pymilvus import (\n",
    "    connections,\n",
    "    utility,\n",
    "    FieldSchema,\n",
    "    CollectionSchema,\n",
    "    DataType,\n",
    "    Collection,\n",
    ")\n",
    "import random"
   ]
  },
  {
   "cell_type": "code",
   "execution_count": 4,
   "id": "fac608f7",
   "metadata": {},
   "outputs": [],
   "source": [
    "connections.connect(\"default\", host=\"localhost\", port=\"19530\")"
   ]
  },
  {
   "cell_type": "code",
   "execution_count": 56,
   "id": "0c119987",
   "metadata": {},
   "outputs": [],
   "source": [
    "fields = [\n",
    "    FieldSchema(name=\"id\", dtype=DataType.INT64, is_primary=True, auto_id=False),\n",
    "    FieldSchema(name=\"embeddings\", dtype=DataType.FLOAT_VECTOR, dim=8)\n",
    "]\n",
    "schema = CollectionSchema(fields, \"\")\n",
    "demo = Collection(\"demo\", schema)"
   ]
  },
  {
   "cell_type": "code",
   "execution_count": 77,
   "id": "742bda86",
   "metadata": {},
   "outputs": [
    {
     "data": {
      "text/plain": [
       "<Collection>:\n",
       "-------------\n",
       "<name>: demo\n",
       "<description>: \n",
       "<schema>: {'auto_id': False, 'description': '', 'fields': [{'name': 'id', 'description': '', 'type': <DataType.INT64: 5>, 'is_primary': True, 'auto_id': False}, {'name': 'embeddings', 'description': '', 'type': <DataType.FLOAT_VECTOR: 101>, 'params': {'dim': 8}}]}"
      ]
     },
     "execution_count": 77,
     "metadata": {},
     "output_type": "execute_result"
    }
   ],
   "source": [
    "demo"
   ]
  },
  {
   "cell_type": "code",
   "execution_count": 59,
   "id": "a5ce70b0",
   "metadata": {},
   "outputs": [],
   "source": [
    "entities = [\n",
    "    [i for i in range(3000)],\n",
    "    [[random.random() for _ in range(8)] for _ in range(3000)],\n",
    "]\n",
    "insert_result = demo.insert(entities)\n",
    "demo.flush()  "
   ]
  },
  {
   "cell_type": "code",
   "execution_count": 60,
   "id": "fc862a01",
   "metadata": {},
   "outputs": [
    {
     "data": {
      "text/plain": [
       "Status(code=0, message=)"
      ]
     },
     "execution_count": 60,
     "metadata": {},
     "output_type": "execute_result"
    }
   ],
   "source": [
    "index = {\n",
    "    \"index_type\": \"IVF_FLAT\",\n",
    "    \"metric_type\": \"L2\",\n",
    "    \"params\": {\"nlist\": 128},\n",
    "}\n",
    "demo.create_index(\"embeddings\", index)"
   ]
  },
  {
   "cell_type": "code",
   "execution_count": 65,
   "id": "51ccd2a3",
   "metadata": {},
   "outputs": [],
   "source": [
    "demo.load()\n",
    "vectors_to_search = entities[-1][-2:]\n",
    "search_params = {\n",
    "    \"metric_type\": \"L2\",\n",
    "    \"params\": {\"nprobe\": 10},\n",
    "}\n",
    "result = demo.search(vectors_to_search, \"embeddings\", search_params, limit=3, output_fields=[\"id\", \"embeddings\"])"
   ]
  },
  {
   "cell_type": "code",
   "execution_count": 66,
   "id": "52d3433d",
   "metadata": {},
   "outputs": [
    {
     "data": {
      "text/plain": [
       "[2998, 2898, 884]"
      ]
     },
     "execution_count": 66,
     "metadata": {},
     "output_type": "execute_result"
    }
   ],
   "source": [
    "result[0].ids"
   ]
  },
  {
   "cell_type": "code",
   "execution_count": 72,
   "id": "da6017a6",
   "metadata": {},
   "outputs": [
    {
     "data": {
      "text/plain": [
       "[[0.5126429796218872,\n",
       "  0.10488633811473846,\n",
       "  0.8042959570884705,\n",
       "  0.9489639401435852,\n",
       "  0.23087722063064575,\n",
       "  0.6608924269676208,\n",
       "  0.6877580285072327,\n",
       "  0.5401747226715088],\n",
       " [0.6592569947242737,\n",
       "  0.13888874650001526,\n",
       "  0.8460841178894043,\n",
       "  0.9470040798187256,\n",
       "  0.29675623774528503,\n",
       "  0.5355814099311829,\n",
       "  0.6274703145027161,\n",
       "  0.38074740767478943],\n",
       " [0.34233683347702026,\n",
       "  0.07627993077039719,\n",
       "  0.5676783323287964,\n",
       "  0.8684123158454895,\n",
       "  0.38202518224716187,\n",
       "  0.7005187273025513,\n",
       "  0.7894041538238525,\n",
       "  0.5391728281974792]]"
      ]
     },
     "execution_count": 72,
     "metadata": {},
     "output_type": "execute_result"
    }
   ],
   "source": [
    "[r.entity.get('embeddings') for r in result[0]]"
   ]
  },
  {
   "cell_type": "code",
   "execution_count": 5,
   "id": "f18e965c",
   "metadata": {},
   "outputs": [
    {
     "data": {
      "text/plain": [
       "['demo']"
      ]
     },
     "execution_count": 5,
     "metadata": {},
     "output_type": "execute_result"
    }
   ],
   "source": [
    "utility.list_collections()"
   ]
  },
  {
   "cell_type": "code",
   "execution_count": 6,
   "id": "db5183cd",
   "metadata": {},
   "outputs": [
    {
     "data": {
      "text/plain": [
       "True"
      ]
     },
     "execution_count": 6,
     "metadata": {},
     "output_type": "execute_result"
    }
   ],
   "source": [
    "utility.has_collection(\"demo\")"
   ]
  },
  {
   "cell_type": "code",
   "execution_count": 7,
   "id": "f87172c3",
   "metadata": {},
   "outputs": [
    {
     "data": {
      "text/plain": [
       "<Collection>:\n",
       "-------------\n",
       "<name>: demo\n",
       "<description>: \n",
       "<schema>: {'auto_id': False, 'description': '', 'fields': [{'name': 'id', 'description': '', 'type': <DataType.INT64: 5>, 'is_primary': True, 'auto_id': False}, {'name': 'embeddings', 'description': '', 'type': <DataType.FLOAT_VECTOR: 101>, 'params': {'dim': 8}}]}"
      ]
     },
     "execution_count": 7,
     "metadata": {},
     "output_type": "execute_result"
    }
   ],
   "source": [
    "collection = Collection(\"demo\")\n",
    "collection"
   ]
  }
 ],
 "metadata": {
  "kernelspec": {
   "display_name": "Python 3 (ipykernel)",
   "language": "python",
   "name": "python3"
  },
  "language_info": {
   "codemirror_mode": {
    "name": "ipython",
    "version": 3
   },
   "file_extension": ".py",
   "mimetype": "text/x-python",
   "name": "python",
   "nbconvert_exporter": "python",
   "pygments_lexer": "ipython3",
   "version": "3.9.6"
  }
 },
 "nbformat": 4,
 "nbformat_minor": 5
}
