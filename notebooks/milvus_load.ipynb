{
 "cells": [
  {
   "cell_type": "code",
   "execution_count": 1,
   "id": "b37f7a2e",
   "metadata": {},
   "outputs": [
    {
     "name": "stderr",
     "output_type": "stream",
     "text": [
      "/Users/pasha/Library/Python/3.9/lib/python/site-packages/urllib3/__init__.py:34: NotOpenSSLWarning: urllib3 v2.0 only supports OpenSSL 1.1.1+, currently the 'ssl' module is compiled with 'LibreSSL 2.8.3'. See: https://github.com/urllib3/urllib3/issues/3020\n",
      "  warnings.warn(\n"
     ]
    }
   ],
   "source": [
    "import numpy as np\n",
    "from tqdm import tqdm\n",
    "\n",
    "from pymilvus import (\n",
    "    connections,\n",
    "    utility,\n",
    "    FieldSchema,\n",
    "    CollectionSchema,\n",
    "    DataType,\n",
    "    Collection,\n",
    ")"
   ]
  },
  {
   "cell_type": "code",
   "execution_count": 2,
   "id": "2174e887",
   "metadata": {},
   "outputs": [],
   "source": [
    "vecs = np.load(\"../data/als_vecs.npy\")\n",
    "n_vecs, dim = vecs.shape"
   ]
  },
  {
   "cell_type": "code",
   "execution_count": 3,
   "id": "34c24218",
   "metadata": {},
   "outputs": [],
   "source": [
    "connections.connect(\"default\", host=\"localhost\", port=\"19530\")"
   ]
  },
  {
   "cell_type": "code",
   "execution_count": 4,
   "id": "59abf0dc",
   "metadata": {},
   "outputs": [],
   "source": [
    "if utility.has_collection(\"tracks\"):\n",
    "    utility.drop_collection(\"tracks\")"
   ]
  },
  {
   "cell_type": "code",
   "execution_count": 5,
   "id": "736fb0de",
   "metadata": {},
   "outputs": [],
   "source": [
    "fields = [\n",
    "    FieldSchema(name=\"id\", dtype=DataType.INT64, is_primary=True, auto_id=False),\n",
    "    FieldSchema(name=\"embeddings\", dtype=DataType.FLOAT_VECTOR, dim=dim)\n",
    "]\n",
    "schema = CollectionSchema(fields, \"\")\n",
    "tracks = Collection(\"tracks\", schema)"
   ]
  },
  {
   "cell_type": "code",
   "execution_count": 6,
   "id": "27374dba",
   "metadata": {},
   "outputs": [
    {
     "data": {
      "text/plain": [
       "<Collection>:\n",
       "-------------\n",
       "<name>: tracks\n",
       "<description>: \n",
       "<schema>: {'auto_id': False, 'description': '', 'fields': [{'name': 'id', 'description': '', 'type': <DataType.INT64: 5>, 'is_primary': True, 'auto_id': False}, {'name': 'embeddings', 'description': '', 'type': <DataType.FLOAT_VECTOR: 101>, 'params': {'dim': 128}}]}"
      ]
     },
     "execution_count": 6,
     "metadata": {},
     "output_type": "execute_result"
    }
   ],
   "source": [
    "tracks"
   ]
  },
  {
   "cell_type": "code",
   "execution_count": 7,
   "id": "4297a4c6",
   "metadata": {},
   "outputs": [
    {
     "name": "stderr",
     "output_type": "stream",
     "text": [
      "100%|███████████████████████████████████████████████████████████████████████████████████████████████████████████████████████████████████| 170/170 [00:03<00:00, 47.50it/s]\n"
     ]
    }
   ],
   "source": [
    "batch_size = 1000\n",
    "\n",
    "for i in tqdm(range(0, n_vecs, batch_size)):\n",
    "    entities = [list(range(i, min(i + batch_size, n_vecs))), vecs[i:min(i + batch_size, n_vecs)].tolist()]\n",
    "    insert_result = tracks.insert(entities)\n",
    "    \n",
    "tracks.flush()  "
   ]
  },
  {
   "cell_type": "code",
   "execution_count": 8,
   "id": "7e95562b",
   "metadata": {},
   "outputs": [
    {
     "data": {
      "text/plain": [
       "True"
      ]
     },
     "execution_count": 8,
     "metadata": {},
     "output_type": "execute_result"
    }
   ],
   "source": [
    "utility.has_collection(\"tracks\")"
   ]
  },
  {
   "cell_type": "code",
   "execution_count": 9,
   "id": "ed42f13b",
   "metadata": {},
   "outputs": [
    {
     "data": {
      "text/plain": [
       "(169542, 169542)"
      ]
     },
     "execution_count": 9,
     "metadata": {},
     "output_type": "execute_result"
    }
   ],
   "source": [
    "n_vecs, tracks.num_entities"
   ]
  },
  {
   "cell_type": "code",
   "execution_count": 10,
   "id": "f53047a2",
   "metadata": {},
   "outputs": [],
   "source": [
    "index = {\n",
    "    \"index_type\": \"IVF_FLAT\",\n",
    "    \"metric_type\": \"L2\",\n",
    "    \"params\": {\"nlist\": 128},\n",
    "}\n",
    "tracks.create_index(\"embeddings\", index)\n",
    "tracks.load()"
   ]
  },
  {
   "cell_type": "code",
   "execution_count": 11,
   "id": "2be3eb15",
   "metadata": {},
   "outputs": [],
   "source": [
    "def similar(id):\n",
    "    vectors_to_search = [vecs[id].tolist()]\n",
    "    search_params = {\n",
    "        \"metric_type\": \"L2\",\n",
    "        \"params\": {\"nprobe\": 10},\n",
    "    }\n",
    "    resp = tracks.search(vectors_to_search, \"embeddings\", search_params, limit=10, output_fields=[\"id\", \"embeddings\"])\n",
    "    return [r.entity.get('id') for r in resp[0]]"
   ]
  },
  {
   "cell_type": "code",
   "execution_count": 12,
   "id": "ac7e89a5",
   "metadata": {},
   "outputs": [
    {
     "data": {
      "text/plain": [
       "[0, 34574, 6761, 14766, 74274, 46600, 19795, 3331, 30335, 36532]"
      ]
     },
     "execution_count": 12,
     "metadata": {},
     "output_type": "execute_result"
    }
   ],
   "source": [
    "similar(0)"
   ]
  },
  {
   "cell_type": "code",
   "execution_count": 13,
   "id": "104077f2",
   "metadata": {},
   "outputs": [
    {
     "data": {
      "text/plain": [
       "[1, 21776, 18594, 9976, 17919, 8285, 12400, 6736, 18560, 13668]"
      ]
     },
     "execution_count": 13,
     "metadata": {},
     "output_type": "execute_result"
    }
   ],
   "source": [
    "similar(1)"
   ]
  },
  {
   "cell_type": "code",
   "execution_count": 14,
   "id": "605c54bb",
   "metadata": {},
   "outputs": [
    {
     "data": {
      "text/plain": [
       "[2, 1189, 1488, 20638, 10329, 51061, 16045, 18576, 1116, 52169]"
      ]
     },
     "execution_count": 14,
     "metadata": {},
     "output_type": "execute_result"
    }
   ],
   "source": [
    "similar(2)"
   ]
  }
 ],
 "metadata": {
  "kernelspec": {
   "display_name": "Python 3 (ipykernel)",
   "language": "python",
   "name": "python3"
  },
  "language_info": {
   "codemirror_mode": {
    "name": "ipython",
    "version": 3
   },
   "file_extension": ".py",
   "mimetype": "text/x-python",
   "name": "python",
   "nbconvert_exporter": "python",
   "pygments_lexer": "ipython3",
   "version": "3.9.6"
  }
 },
 "nbformat": 4,
 "nbformat_minor": 5
}
