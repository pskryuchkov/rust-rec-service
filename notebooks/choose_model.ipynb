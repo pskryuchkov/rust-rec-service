{
 "cells": [
  {
   "cell_type": "code",
   "execution_count": 1,
   "id": "45ea5ae7",
   "metadata": {},
   "outputs": [],
   "source": [
    "import numpy as np\n",
    "import pandas as pd\n",
    "\n",
    "from sklearn.decomposition import NMF\n",
    "from sklearn.utils.extmath import randomized_svd\n",
    "from sklearn.model_selection import train_test_split\n",
    "\n",
    "import faiss\n",
    "import implicit\n",
    "from scipy.sparse import csr_matrix"
   ]
  },
  {
   "cell_type": "markdown",
   "id": "443984f1",
   "metadata": {},
   "source": [
    "### Prepare data"
   ]
  },
  {
   "cell_type": "code",
   "execution_count": 2,
   "id": "f43a6d9f",
   "metadata": {},
   "outputs": [],
   "source": [
    "df = pd.read_csv(\"../data/rec_test_assignment_playlist2track.csv\")"
   ]
  },
  {
   "cell_type": "code",
   "execution_count": 3,
   "id": "176fe72c",
   "metadata": {},
   "outputs": [
    {
     "data": {
      "text/html": [
       "<div>\n",
       "<style scoped>\n",
       "    .dataframe tbody tr th:only-of-type {\n",
       "        vertical-align: middle;\n",
       "    }\n",
       "\n",
       "    .dataframe tbody tr th {\n",
       "        vertical-align: top;\n",
       "    }\n",
       "\n",
       "    .dataframe thead th {\n",
       "        text-align: right;\n",
       "    }\n",
       "</style>\n",
       "<table border=\"1\" class=\"dataframe\">\n",
       "  <thead>\n",
       "    <tr style=\"text-align: right;\">\n",
       "      <th></th>\n",
       "      <th>playlist_id</th>\n",
       "      <th>track_id</th>\n",
       "      <th>track_uri</th>\n",
       "    </tr>\n",
       "  </thead>\n",
       "  <tbody>\n",
       "    <tr>\n",
       "      <th>0</th>\n",
       "      <td>0</td>\n",
       "      <td>0</td>\n",
       "      <td>spotify:track:1r0faljjM2b876iNoaDUh5</td>\n",
       "    </tr>\n",
       "    <tr>\n",
       "      <th>1</th>\n",
       "      <td>1</td>\n",
       "      <td>1</td>\n",
       "      <td>spotify:track:1JO1xLtVc8mWhIoE3YaCL0</td>\n",
       "    </tr>\n",
       "    <tr>\n",
       "      <th>2</th>\n",
       "      <td>2</td>\n",
       "      <td>2</td>\n",
       "      <td>spotify:track:3SuzCeGoNOWmbWOoDMou0B</td>\n",
       "    </tr>\n",
       "    <tr>\n",
       "      <th>3</th>\n",
       "      <td>3</td>\n",
       "      <td>3</td>\n",
       "      <td>spotify:track:4GJAd1nBylAEbw1dZDVzEQ</td>\n",
       "    </tr>\n",
       "    <tr>\n",
       "      <th>4</th>\n",
       "      <td>4</td>\n",
       "      <td>4</td>\n",
       "      <td>spotify:track:5cbpoIu3YjoOwbBDGUEp3P</td>\n",
       "    </tr>\n",
       "  </tbody>\n",
       "</table>\n",
       "</div>"
      ],
      "text/plain": [
       "   playlist_id  track_id                             track_uri\n",
       "0            0         0  spotify:track:1r0faljjM2b876iNoaDUh5\n",
       "1            1         1  spotify:track:1JO1xLtVc8mWhIoE3YaCL0\n",
       "2            2         2  spotify:track:3SuzCeGoNOWmbWOoDMou0B\n",
       "3            3         3  spotify:track:4GJAd1nBylAEbw1dZDVzEQ\n",
       "4            4         4  spotify:track:5cbpoIu3YjoOwbBDGUEp3P"
      ]
     },
     "execution_count": 3,
     "metadata": {},
     "output_type": "execute_result"
    }
   ],
   "source": [
    "df.head()"
   ]
  },
  {
   "cell_type": "code",
   "execution_count": 4,
   "id": "8a99f423",
   "metadata": {},
   "outputs": [
    {
     "name": "stdout",
     "output_type": "stream",
     "text": [
      "tracks: 169548, playlists: 714818\n"
     ]
    }
   ],
   "source": [
    "n_track = df['track_id'].unique().shape[0]\n",
    "n_playlist = df['playlist_id'].unique().shape[0]\n",
    "print('tracks: {}, playlists: {}'.format(n_track, n_playlist))"
   ]
  },
  {
   "cell_type": "code",
   "execution_count": 5,
   "id": "af7ea227",
   "metadata": {},
   "outputs": [],
   "source": [
    "N_TOP = 5\n",
    "\n",
    "df = df.merge(\n",
    "        df.groupby('playlist_id')['track_id'].agg(neighbours=list),\n",
    "        left_on='playlist_id',\n",
    "        right_index=True\n",
    "    )\n",
    "\n",
    "df['n_neighbours'] = df['neighbours'].apply(len)\n",
    "df = df[df['n_neighbours'] >= N_TOP].drop('n_neighbours', axis=1)"
   ]
  },
  {
   "cell_type": "code",
   "execution_count": 6,
   "id": "7d1e13fe",
   "metadata": {},
   "outputs": [
    {
     "name": "stdout",
     "output_type": "stream",
     "text": [
      "(256064, 4) (560574, 4)\n"
     ]
    }
   ],
   "source": [
    "train_idx, test_idx = train_test_split(range(df['playlist_id'].unique().shape[0]), test_size=0.2)\n",
    "train_idx = set(train_idx)\n",
    "test_idx = set(test_idx)\n",
    "\n",
    "df['train'] = df['playlist_id'].apply(lambda x: x in train_idx)\n",
    "train_df = df[df['train'] == True].drop('train', axis=1)\n",
    "test_df = df[df['train'] == False].drop('train', axis=1)\n",
    "\n",
    "\n",
    "print(train_df.shape, test_df.shape)"
   ]
  },
  {
   "cell_type": "code",
   "execution_count": 7,
   "id": "9c5eda1f",
   "metadata": {},
   "outputs": [],
   "source": [
    "rows, cols, data = [], [], []\n",
    "for i, r in train_df.iterrows():\n",
    "    rows.append(r['playlist_id'])\n",
    "    cols.append(r['track_id'])\n",
    "    data.append(1)"
   ]
  },
  {
   "cell_type": "code",
   "execution_count": 8,
   "id": "5cc640e0",
   "metadata": {},
   "outputs": [],
   "source": [
    "interactions = csr_matrix((data, (rows, cols)))"
   ]
  },
  {
   "cell_type": "code",
   "execution_count": 9,
   "id": "4cd7a30a",
   "metadata": {},
   "outputs": [
    {
     "data": {
      "text/plain": [
       "(125095, 169542)"
      ]
     },
     "execution_count": 9,
     "metadata": {},
     "output_type": "execute_result"
    }
   ],
   "source": [
    "interactions.shape"
   ]
  },
  {
   "cell_type": "markdown",
   "id": "2a31761f",
   "metadata": {},
   "source": [
    "### ALS"
   ]
  },
  {
   "cell_type": "code",
   "execution_count": 10,
   "id": "b8a33374",
   "metadata": {},
   "outputs": [],
   "source": [
    "N_LATENT = 128"
   ]
  },
  {
   "cell_type": "code",
   "execution_count": 11,
   "id": "ecb5b656",
   "metadata": {},
   "outputs": [
    {
     "name": "stderr",
     "output_type": "stream",
     "text": [
      "/Users/pasha/Library/Python/3.9/lib/python/site-packages/implicit/cpu/als.py:95: RuntimeWarning: OpenBLAS is configured to use 10 threads. It is highly recommended to disable its internal threadpool by setting the environment variable 'OPENBLAS_NUM_THREADS=1' or by calling 'threadpoolctl.threadpool_limits(1, \"blas\")'. Having OpenBLAS use a threadpool can lead to severe performance issues here.\n",
      "  check_blas_config()\n"
     ]
    },
    {
     "data": {
      "application/vnd.jupyter.widget-view+json": {
       "model_id": "d2671101cd1a4859a382e21088ac6714",
       "version_major": 2,
       "version_minor": 0
      },
      "text/plain": [
       "  0%|          | 0/15 [00:00<?, ?it/s]"
      ]
     },
     "metadata": {},
     "output_type": "display_data"
    },
    {
     "name": "stdout",
     "output_type": "stream",
     "text": [
      "CPU times: user 3min 17s, sys: 2min 50s, total: 6min 8s\n",
      "Wall time: 42.5 s\n"
     ]
    }
   ],
   "source": [
    "%%time\n",
    "\n",
    "model = implicit.als.AlternatingLeastSquares(factors=N_LATENT)\n",
    "model.fit(interactions)\n",
    "als_vecs = model.item_factors"
   ]
  },
  {
   "cell_type": "code",
   "execution_count": 12,
   "id": "87675b58",
   "metadata": {},
   "outputs": [
    {
     "name": "stdout",
     "output_type": "stream",
     "text": [
      "169542\n"
     ]
    }
   ],
   "source": [
    "index_als = faiss.IndexFlat(N_LATENT)   \n",
    "index_als.add(als_vecs)          \n",
    "print(index_als.ntotal)"
   ]
  },
  {
   "cell_type": "code",
   "execution_count": 13,
   "id": "38a0c06b",
   "metadata": {},
   "outputs": [],
   "source": [
    "np.save(\"../data/als_vecs.npy\", als_vecs)"
   ]
  },
  {
   "cell_type": "markdown",
   "id": "4e89b74e",
   "metadata": {},
   "source": [
    "### SVD"
   ]
  },
  {
   "cell_type": "code",
   "execution_count": 14,
   "id": "94f4e89c",
   "metadata": {},
   "outputs": [
    {
     "name": "stdout",
     "output_type": "stream",
     "text": [
      "CPU times: user 1min 6s, sys: 25.8 s, total: 1min 32s\n",
      "Wall time: 10.4 s\n"
     ]
    }
   ],
   "source": [
    "%%time\n",
    "\n",
    "u, s, vt = randomized_svd(interactions, n_components=N_LATENT)\n",
    "svd_vecs = vt.T"
   ]
  },
  {
   "cell_type": "code",
   "execution_count": 15,
   "id": "5a72ddca",
   "metadata": {},
   "outputs": [
    {
     "name": "stdout",
     "output_type": "stream",
     "text": [
      "169542\n"
     ]
    }
   ],
   "source": [
    "index_svd = faiss.IndexFlat(N_LATENT)   \n",
    "index_svd.add(svd_vecs)          \n",
    "print(index_svd.ntotal)"
   ]
  },
  {
   "cell_type": "code",
   "execution_count": 16,
   "id": "b2162ecc",
   "metadata": {},
   "outputs": [],
   "source": [
    "np.save(\"../data/svd_vecs.npy\", svd_vecs)"
   ]
  },
  {
   "cell_type": "markdown",
   "id": "a16a92a9",
   "metadata": {},
   "source": [
    "### NMF Sklearn"
   ]
  },
  {
   "cell_type": "code",
   "execution_count": 17,
   "id": "02a7c039",
   "metadata": {},
   "outputs": [
    {
     "name": "stderr",
     "output_type": "stream",
     "text": [
      "/Users/pasha/Library/Python/3.9/lib/python/site-packages/sklearn/decomposition/_nmf.py:1665: ConvergenceWarning: Maximum number of iterations 10 reached. Increase it to improve convergence.\n",
      "  warnings.warn(\n"
     ]
    },
    {
     "name": "stdout",
     "output_type": "stream",
     "text": [
      "CPU times: user 2min 28s, sys: 44.2 s, total: 3min 12s\n",
      "Wall time: 1min 9s\n"
     ]
    }
   ],
   "source": [
    "%%time\n",
    "\n",
    "nmf = NMF(n_components=N_LATENT, max_iter=10)\n",
    "W = nmf.fit_transform(interactions)\n",
    "H = nmf.components_\n",
    "nmf_vecs = H.T"
   ]
  },
  {
   "cell_type": "code",
   "execution_count": 18,
   "id": "bc03236e",
   "metadata": {},
   "outputs": [
    {
     "name": "stdout",
     "output_type": "stream",
     "text": [
      "169542\n"
     ]
    }
   ],
   "source": [
    "index_nmf = faiss.IndexFlat(N_LATENT)   \n",
    "index_nmf.add(nmf_vecs)          \n",
    "print(index_nmf.ntotal)"
   ]
  },
  {
   "cell_type": "code",
   "execution_count": 19,
   "id": "f7cbaba9",
   "metadata": {},
   "outputs": [],
   "source": [
    "np.save(\"../data/nmf_vecs.npy\", nmf_vecs)"
   ]
  },
  {
   "cell_type": "markdown",
   "id": "b4ffbcb1",
   "metadata": {},
   "source": [
    "### Metrics"
   ]
  },
  {
   "cell_type": "code",
   "execution_count": 20,
   "id": "358c2263",
   "metadata": {},
   "outputs": [],
   "source": [
    "def search_top_by_vec(v, k, index):\n",
    "    dist, idx = index.search(np.array([v]), k)\n",
    "    return idx[0]\n",
    "\n",
    "\n",
    "def search_top_by_id(id, k, index, vecs):\n",
    "    return search_top_by_vec(vecs[id], k, index)"
   ]
  },
  {
   "cell_type": "code",
   "execution_count": 21,
   "id": "f7ef7b8f",
   "metadata": {},
   "outputs": [],
   "source": [
    "N_TEST_MAX = 1000\n",
    "\n",
    "if N_TEST_MAX:\n",
    "    test_df = test_df.iloc[:N_TEST_MAX]"
   ]
  },
  {
   "cell_type": "code",
   "execution_count": 22,
   "id": "68b7ff04",
   "metadata": {},
   "outputs": [],
   "source": [
    "test_df['neighbours_pred_als'] = test_df['track_id'].apply(lambda x: search_top_by_id(x, N_TOP, \n",
    "                                                                                      index_als, als_vecs))\n",
    "test_df['neighbours_pred_svd'] = test_df['track_id'].apply(lambda x: search_top_by_id(x, N_TOP, \n",
    "                                                                                      index_svd, svd_vecs))\n",
    "test_df['neighbours_pred_nmf'] = test_df['track_id'].apply(lambda x: search_top_by_id(x, N_TOP, \n",
    "                                                                                      index_nmf, nmf_vecs))"
   ]
  },
  {
   "cell_type": "code",
   "execution_count": 23,
   "id": "c8d3c2bf",
   "metadata": {},
   "outputs": [
    {
     "name": "stdout",
     "output_type": "stream",
     "text": [
      "ALS precision: 0.1732, ALS recall: 0.1222\n",
      "SVD precision: 0.1726, SVD recall: 0.1217\n",
      "NMF precision: 0.1718, NMF recall: 0.1212\n"
     ]
    }
   ],
   "source": [
    "def precision_at_k(true, pred):\n",
    "    return len(set(pred) & set(true)) / len(pred)\n",
    "\n",
    "\n",
    "def recall_at_k(true, pred):\n",
    "    return len(set(pred) & set(true)) / len(true)\n",
    "\n",
    "\n",
    "def total_precision(df, model):\n",
    "    assert(model == 'als' or model == 'svd' or model == 'nmf')\n",
    "    pred_col = 'neighbours_pred_{}'.format(model)\n",
    "    return df.apply(lambda r: precision_at_k(r['neighbours'], r[pred_col]), axis=1).mean()\n",
    "\n",
    "\n",
    "def total_recall(df, model):\n",
    "    assert(model == 'als' or model == 'svd' or model == 'nmf')\n",
    "    pred_col = 'neighbours_pred_{}'.format(model)\n",
    "    return df.apply(lambda r: recall_at_k(r['neighbours'], r[pred_col]), axis=1).mean()\n",
    "\n",
    "\n",
    "als_precision = total_precision(test_df, 'als')\n",
    "svd_precision = total_precision(test_df, 'svd')\n",
    "nmf_precision = total_precision(test_df, 'nmf')\n",
    "\n",
    "als_recall = total_recall(test_df, 'als')\n",
    "svd_recall = total_recall(test_df, 'svd')\n",
    "nmf_recall = total_recall(test_df, 'nmf')\n",
    "\n",
    "print(\"ALS precision: {:.4f}, ALS recall: {:.4f}\".format(als_precision, als_recall))\n",
    "print(\"SVD precision: {:.4f}, SVD recall: {:.4f}\".format(svd_precision, svd_recall))\n",
    "print(\"NMF precision: {:.4f}, NMF recall: {:.4f}\".format(nmf_precision, nmf_recall))"
   ]
  },
  {
   "cell_type": "code",
   "execution_count": null,
   "id": "de27df5f",
   "metadata": {},
   "outputs": [],
   "source": []
  }
 ],
 "metadata": {
  "kernelspec": {
   "display_name": "Python 3 (ipykernel)",
   "language": "python",
   "name": "python3"
  },
  "language_info": {
   "codemirror_mode": {
    "name": "ipython",
    "version": 3
   },
   "file_extension": ".py",
   "mimetype": "text/x-python",
   "name": "python",
   "nbconvert_exporter": "python",
   "pygments_lexer": "ipython3",
   "version": "3.9.6"
  }
 },
 "nbformat": 4,
 "nbformat_minor": 5
}
